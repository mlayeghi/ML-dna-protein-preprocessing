{
 "cells": [
  {
   "cell_type": "markdown",
   "metadata": {
    "deletable": true,
    "editable": true
   },
   "source": [
    "# Pre-processing DNA and protein sequences for Machine Learning applications\n",
    "Machine Learning algorithms can be used to process, classify or generate text in a very efficient and large-scale way. Similarly, these ML algorithms could also be applied to raw DNA or protein sequence data. However, due to inherent differences between genetic code and human written text, we need to first pre-process the sequences into a proper format that could be fed into ML algorithms such as, Convolutional or Recurrent Neural Networks (CNN or RNN). One such popular approach is to extract k-mers from raw sequences and treat them as equivalent to words within a human written text. In this python Jupyter notebook, I'll explain how to read sequences from one or multiple fasta files, extract k-mers, map k-mers to vectors of real numbers (word embedding) and save the reformatted data."
   ]
  },
  {
   "cell_type": "markdown",
   "metadata": {
    "deletable": true,
    "editable": true
   },
   "source": [
    "First things first, we start with loading the required packages."
   ]
  },
  {
   "cell_type": "code",
   "execution_count": 1,
   "metadata": {
    "collapsed": true,
    "deletable": true,
    "editable": true
   },
   "outputs": [],
   "source": [
    "import numpy as np\n",
    "import os\n",
    "from six.moves import cPickle"
   ]
  },
  {
   "cell_type": "markdown",
   "metadata": {
    "deletable": true,
    "editable": true
   },
   "source": [
    "Raw DNA or protein sequences usually come in the form a fasta file containing multiple sequences. The following function helps with reading the sequences from a fasta file, one by one."
   ]
  },
  {
   "cell_type": "code",
   "execution_count": 2,
   "metadata": {
    "collapsed": true,
    "deletable": true,
    "editable": true
   },
   "outputs": [],
   "source": [
    "# A function to read sequences from fasta files\n",
    "def read_fasta(fp):\n",
    "    name, seq = None, []\n",
    "    for line in fp:\n",
    "        line = line.rstrip()\n",
    "        if line.startswith(\">\"):\n",
    "            if name: yield (name.replace(\">\", \"\"), ''.join(seq))\n",
    "            name, seq = line, []\n",
    "        else:\n",
    "            seq.append(line)\n",
    "    if name: yield (name.replace(\">\", \"\"), ''.join(seq))"
   ]
  },
  {
   "cell_type": "markdown",
   "metadata": {
    "deletable": true,
    "editable": true
   },
   "source": [
    "Next we need a function to extract k-mers from raw sequences. The following function accepts a sequence and the desired length of the k-mers (or _k_) and returns the list of k-mers extracted from the sequence."
   ]
  },
  {
   "cell_type": "code",
   "execution_count": 3,
   "metadata": {
    "collapsed": true,
    "deletable": true,
    "editable": true
   },
   "outputs": [],
   "source": [
    "# A function to extract k-mers from a sequence\n",
    "def seq2kmer(seq, k):\n",
    "    kmers = zip(*[seq[i:] for i in range(k)])\n",
    "    return [''.join(x) for x in list(kmers)]"
   ]
  },
  {
   "cell_type": "markdown",
   "metadata": {
    "deletable": true,
    "editable": true
   },
   "source": [
    "We'll also need a function to write the k-mers and their embeddings into files. The vocabulary file (consisting of the unique k-mers) will be written in Pickle format. The k-mers, their class and their embeddings as real value vectors will be written to a csv file."
   ]
  },
  {
   "cell_type": "code",
   "execution_count": 4,
   "metadata": {
    "collapsed": true,
    "deletable": true,
    "editable": true
   },
   "outputs": [],
   "source": [
    "def write_files(outfile, all_kmers, unique_kmers, seqids):\n",
    "    vocab_size = len(unique_kmers)\n",
    "    vocab = dict(zip(unique_kmers, range(len(unique_kmers))))\n",
    "    tensor = np.array([list(map(vocab.get, k)) for k in all_kmers])\n",
    "    # Write vocabulary to a cPickle file\n",
    "    with open(outfile + \"_vocab.pkl\", 'wb') as IN:\n",
    "        cPickle.dump(unique_kmers, IN)\n",
    "    \n",
    "    with open(outfile + \".csv\", \"w\") as OUT:\n",
    "        for r in range(len(seqids)):\n",
    "            OUT.write(\"{}\\t{}\\t{}\\n\".\n",
    "                      format(seqids[r],\n",
    "                             \" \".join(all_kmers[r]),\n",
    "                             \" \".join(map(str, tensor[r]))))"
   ]
  },
  {
   "cell_type": "markdown",
   "metadata": {
    "deletable": true,
    "editable": true
   },
   "source": [
    "The following function takes the fasta file and creates the vocabulary and word embeddings using the above functions."
   ]
  },
  {
   "cell_type": "code",
   "execution_count": 5,
   "metadata": {
    "collapsed": true,
    "deletable": true,
    "editable": true
   },
   "outputs": [],
   "source": [
    "def seq_processor(infile, k):\n",
    "    all_kmers = []\n",
    "    unique_kmers = []\n",
    "    seqids = []\n",
    "    with open(infile, \"r\") as fp:\n",
    "        for name, seq in read_fasta(fp):\n",
    "            seqids.append(name)\n",
    "            kmers = seq2kmer(list(seq), k)\n",
    "            all_kmers.append(kmers)\n",
    "            unique_kmers += [x for x in kmers if x not in unique_kmers]\n",
    "    return [all_kmers, unique_kmers, seqids]"
   ]
  },
  {
   "cell_type": "markdown",
   "metadata": {
    "deletable": true,
    "editable": true
   },
   "source": [
    "Now, to run the code on a toy fasta file to find k-mers of the length 5bp in raw DNA sequences. We read the file from the \"raw\" folder and write data to \"processed\" folder."
   ]
  },
  {
   "cell_type": "code",
   "execution_count": 6,
   "metadata": {
    "collapsed": false,
    "deletable": true,
    "editable": true
   },
   "outputs": [],
   "source": [
    "infile = \"data/raw/file1.fa\"\n",
    "outfile = \"data/processed/file1\"\n",
    "k = 5\n",
    "all_kmers, unique_kmers, seqids = seq_processor(infile, k)\n",
    "write_files(outfile, all_kmers, unique_kmers, seqids)"
   ]
  },
  {
   "cell_type": "markdown",
   "metadata": {
    "deletable": true,
    "editable": true
   },
   "source": [
    "In case of multiple fasta files. To be continued..."
   ]
  }
 ],
 "metadata": {
  "kernelspec": {
   "display_name": "Python 3",
   "language": "python",
   "name": "python3"
  },
  "language_info": {
   "codemirror_mode": {
    "name": "ipython",
    "version": 3
   },
   "file_extension": ".py",
   "mimetype": "text/x-python",
   "name": "python",
   "nbconvert_exporter": "python",
   "pygments_lexer": "ipython3",
   "version": "3.5.2"
  }
 },
 "nbformat": 4,
 "nbformat_minor": 2
}
